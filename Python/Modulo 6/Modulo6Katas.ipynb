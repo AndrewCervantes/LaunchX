{
 "cells": [
  {
   "cell_type": "markdown",
   "metadata": {},
   "source": [
    "## Modulo 6 \"Listas en python\".\n",
    "Autor: Christian Cervantes"
   ]
  },
  {
   "cell_type": "markdown",
   "metadata": {},
   "source": [
    "Ejercicio 1 Usar listas para almacenar nombres de planetas."
   ]
  },
  {
   "cell_type": "code",
   "execution_count": 1,
   "metadata": {},
   "outputs": [
    {
     "name": "stdout",
     "output_type": "stream",
     "text": [
      "['Mercury', 'Venus', 'Earth', 'Mars', 'Jupiter', 'Saturn', 'Uranus', 'Neptune']\n"
     ]
    }
   ],
   "source": [
    "#Crear lista de planets.\n",
    "planets = ['Mercury', 'Venus', 'Earth', 'Mars', 'Jupiter', 'Saturn', 'Uranus', 'Neptune']\n",
    "#Mostrar Lista\n",
    "print(planets)"
   ]
  },
  {
   "cell_type": "code",
   "execution_count": 6,
   "metadata": {},
   "outputs": [
    {
     "name": "stdout",
     "output_type": "stream",
     "text": [
      "Pluton is the last planet\n"
     ]
    }
   ],
   "source": [
    "#Agregar a plúton\n",
    "planets.append(\"Pluton\")\n",
    "# Mostrar el ultimo elemnto\n",
    "print(planets[-1], \"is the last planet\")"
   ]
  },
  {
   "cell_type": "markdown",
   "metadata": {},
   "source": [
    "Ejercicio 2 - Trabajando con datos de una lista."
   ]
  },
  {
   "cell_type": "code",
   "execution_count": 7,
   "metadata": {},
   "outputs": [],
   "source": [
    "#Lista de planetas\n",
    "planets = ['Mercury', 'Venus', 'Earth', 'Mars', 'Jupiter', 'Saturn', 'Uranus', 'Neptune']"
   ]
  },
  {
   "cell_type": "code",
   "execution_count": 13,
   "metadata": {},
   "outputs": [],
   "source": [
    "#Solicitamos el nombre de un planta\n",
    "planetOne = input(\"Ingresa el nombre de un planeta (Primera letra en mayuscula): \")"
   ]
  },
  {
   "cell_type": "code",
   "execution_count": 14,
   "metadata": {},
   "outputs": [],
   "source": [
    "#Buscar el planeta en la lista.\n",
    "searchPlanet = planets.index(planetOne)"
   ]
  },
  {
   "cell_type": "code",
   "execution_count": 19,
   "metadata": {},
   "outputs": [
    {
     "name": "stdout",
     "output_type": "stream",
     "text": [
      "Planets closer ['Mercury', 'Venus', 'Earth', 'Mars']\n"
     ]
    }
   ],
   "source": [
    "#Mostrar planetas más cercanos al sol que el usuario ingreso.\n",
    "print(\"Planets closer\", planets[0:searchPlanet])"
   ]
  },
  {
   "cell_type": "code",
   "execution_count": 20,
   "metadata": {},
   "outputs": [
    {
     "name": "stdout",
     "output_type": "stream",
     "text": [
      "Planets further ['Saturn', 'Uranus', 'Neptune']\n"
     ]
    }
   ],
   "source": [
    "#Mostrar los planetas más lejanos al sol.\n",
    "print(\"Planets further\",planets[searchPlanet+1:])"
   ]
  }
 ],
 "metadata": {
  "interpreter": {
   "hash": "5b7ddd63c9f068f89af4dfea35d95f99a94898c964006b9f4c765927be8434e8"
  },
  "kernelspec": {
   "display_name": "Python 3.10.2 64-bit",
   "language": "python",
   "name": "python3"
  },
  "language_info": {
   "codemirror_mode": {
    "name": "ipython",
    "version": 3
   },
   "file_extension": ".py",
   "mimetype": "text/x-python",
   "name": "python",
   "nbconvert_exporter": "python",
   "pygments_lexer": "ipython3",
   "version": "3.10.2"
  },
  "orig_nbformat": 4
 },
 "nbformat": 4,
 "nbformat_minor": 2
}
