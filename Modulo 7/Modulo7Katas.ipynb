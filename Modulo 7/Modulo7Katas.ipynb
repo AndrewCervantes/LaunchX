{
 "cells": [
  {
   "cell_type": "markdown",
   "metadata": {},
   "source": [
    "## Modulo 7 \"Ciclos\"\n",
    "Autor: Christian Cervantes"
   ]
  },
  {
   "cell_type": "markdown",
   "metadata": {},
   "source": [
    "Ejercicio 1 - Estás creando una aplicación que solicita a un usuario que ingrese una lista de planetas"
   ]
  },
  {
   "cell_type": "code",
   "execution_count": 2,
   "metadata": {},
   "outputs": [
    {
     "name": "stdout",
     "output_type": "stream",
     "text": [
      "Planets:  ['Marte', 'Tierra', 'Saturno', 'Jupiter']\n"
     ]
    }
   ],
   "source": [
    "#declaración de variables\n",
    "data = ''\n",
    "planets = []\n",
    "#Ciclo while\n",
    "while data.lower() != 'end':\n",
    "    if data:\n",
    "        planets.append(data)\n",
    "    data = input(\"Enter a new values of planets, or end when finished\")\n",
    "print(\"Planets: \", planets)"
   ]
  },
  {
   "cell_type": "markdown",
   "metadata": {},
   "source": [
    "Ejercicio 2 - Mostrar la lista de los planetas"
   ]
  },
  {
   "cell_type": "code",
   "execution_count": 3,
   "metadata": {},
   "outputs": [
    {
     "name": "stdout",
     "output_type": "stream",
     "text": [
      "Marte\n",
      "Tierra\n",
      "Saturno\n",
      "Jupiter\n"
     ]
    }
   ],
   "source": [
    "for planet in planets:\n",
    "    print(planet)"
   ]
  }
 ],
 "metadata": {
  "interpreter": {
   "hash": "5b7ddd63c9f068f89af4dfea35d95f99a94898c964006b9f4c765927be8434e8"
  },
  "kernelspec": {
   "display_name": "Python 3.10.2 64-bit",
   "language": "python",
   "name": "python3"
  },
  "language_info": {
   "codemirror_mode": {
    "name": "ipython",
    "version": 3
   },
   "file_extension": ".py",
   "mimetype": "text/x-python",
   "name": "python",
   "nbconvert_exporter": "python",
   "pygments_lexer": "ipython3",
   "version": "3.10.2"
  },
  "orig_nbformat": 4
 },
 "nbformat": 4,
 "nbformat_minor": 2
}
