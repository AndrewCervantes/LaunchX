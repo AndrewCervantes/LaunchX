{
 "cells": [
  {
   "cell_type": "markdown",
   "metadata": {},
   "source": [
    "## Modulo 3 \"Sentencias IF\"\n",
    "Autor: Christian Cervantes"
   ]
  },
  {
   "cell_type": "markdown",
   "metadata": {},
   "source": [
    "Ejercicio 1\n"
   ]
  },
  {
   "cell_type": "code",
   "execution_count": 4,
   "metadata": {},
   "outputs": [
    {
     "name": "stdout",
     "output_type": "stream",
     "text": [
      "Advertencia!!!!, se acerca un asteroid a una velocidad de 49 km/s.\n"
     ]
    }
   ],
   "source": [
    "# Añadir el código necesario para crear una variable que guarde la velocidad del asteroide.\n",
    "# Escribe una expresión de prueba para calcular si necesita una advertencia.\n",
    "# Agregue las instrucciones que se ejecutarán si la expresión de prueba es true o false.\n",
    "asteroide = 49\n",
    "if asteroide > 25:\n",
    "    print(\"Advertencia!!!!, se acerca un asteroid a una velocidad de \" + str(asteroide) + \" km/s.\")\n",
    "else:\n",
    "    print(\"Todo bien...\")"
   ]
  },
  {
   "cell_type": "markdown",
   "metadata": {},
   "source": [
    "Ejercicio 2"
   ]
  },
  {
   "cell_type": "code",
   "execution_count": 5,
   "metadata": {},
   "outputs": [
    {
     "name": "stdout",
     "output_type": "stream",
     "text": [
      "Seguimos analizando asteroides...\n"
     ]
    }
   ],
   "source": [
    "# Añadir el código necesario para crear una variable que guarde la velocidad del asteroide.\n",
    "# Escribe una expresión de prueba para calcular si necesita una advertencia.\n",
    "# Agregue las instrucciones que se ejecutarán si la expresión de prueba es true o false.\n",
    "asteroide = 19\n",
    "if asteroide > 20:\n",
    "    print(\"Advetencia !!!, Miren al cielo !!!, El asteroiode entro a la atmosfera de la tierra.\")\n",
    "elif asteroide == 20:\n",
    "    print(\"Advetencia !!!, Miren al cielo !!!, El asteroiode entro a la atmosfera de la tierra.\")\n",
    "else:\n",
    "    print(\"Seguimos analizando asteroides...\")"
   ]
  },
  {
   "cell_type": "markdown",
   "metadata": {},
   "source": [
    "Ejercicio 3"
   ]
  },
  {
   "cell_type": "code",
   "execution_count": 8,
   "metadata": {},
   "outputs": [
    {
     "name": "stdout",
     "output_type": "stream",
     "text": [
      "Advertencia !!!, se acerca un asterioide que causara mucho daño a la Tierra.\n"
     ]
    }
   ],
   "source": [
    "# Agrega el código para crear nuevas variables para la velocidad y el tamaño del asteroide\n",
    "# Para probar el código, prueba con varias velocidades y tamaños\n",
    "# Escribe varias expresiones de prueba o combinaciones de expresiones de prueba para determinar qué mensaje se debe enviar a Tierra.\n",
    "velocidadAsteroide = 26\n",
    "tamañoAsteriode = 40\n",
    "if tamañoAsteriode > 25 and velocidadAsteroide > 25:\n",
    "    print(\"Advertencia !!!, se acerca un asterioide que causara mucho daño a la Tierra.\")\n",
    "elif velocidadAsteroide >= 20:\n",
    "    print(\"Advetencia !!!, Miren al cielo !!!, El asteroiode entro a la atmosfera de la tierra.\")\n",
    "elif tamañoAsteriode < 20:\n",
    "    print(\"Tranquilos, el asteroide se quemará a medida que ingrese a la atmosfera.\")\n",
    "\n",
    "else: \n",
    "    print(\"Seguimos analizando asteriodes.\")"
   ]
  }
 ],
 "metadata": {
  "interpreter": {
   "hash": "5b7ddd63c9f068f89af4dfea35d95f99a94898c964006b9f4c765927be8434e8"
  },
  "kernelspec": {
   "display_name": "Python 3.10.2 64-bit",
   "language": "python",
   "name": "python3"
  },
  "language_info": {
   "codemirror_mode": {
    "name": "ipython",
    "version": 3
   },
   "file_extension": ".py",
   "mimetype": "text/x-python",
   "name": "python",
   "nbconvert_exporter": "python",
   "pygments_lexer": "ipython3",
   "version": "3.10.2"
  },
  "orig_nbformat": 4
 },
 "nbformat": 4,
 "nbformat_minor": 2
}
