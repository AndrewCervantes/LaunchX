{
 "cells": [
  {
   "cell_type": "markdown",
   "metadata": {},
   "source": [
    "## Modulo 5 Operadores Ariteméticos\n",
    "Autor: Christian Cervantes "
   ]
  },
  {
   "cell_type": "markdown",
   "metadata": {},
   "source": [
    "Ejercicio 1 - Exploremos cómo podemos crear un programa que pueda calcular la distancia entre dos planetas. Comenzaremos usando dos distancias de planetas: Tierra (149.597.870 km) y Júpiter (778.547.200 km)."
   ]
  },
  {
   "cell_type": "code",
   "execution_count": 4,
   "metadata": {},
   "outputs": [],
   "source": [
    "#Definición de varibales\n",
    "tierra = 149597870\n",
    "jupiter = 778547200\n"
   ]
  },
  {
   "cell_type": "code",
   "execution_count": 9,
   "metadata": {},
   "outputs": [
    {
     "name": "stdout",
     "output_type": "stream",
     "text": [
      "Distancia en km: 628949330\n",
      "Distancia en millas: 390577534\n"
     ]
    }
   ],
   "source": [
    "#Distancia entre planetas en kilometros\n",
    "distanciaKM = jupiter - tierra\n",
    "print(\"Distancia en km: \"+ str(distanciaKM))\n",
    "\n",
    "#Distancia entre planetas en millas\n",
    "distanciaMillas = distanciaKM * 0.621\n",
    "print(\"Distancia en millas: \" + str(round(distanciaMillas)))"
   ]
  },
  {
   "cell_type": "markdown",
   "metadata": {},
   "source": [
    "Ejercicio 2 - convierte cadenas en números y usa valores absolutos"
   ]
  },
  {
   "cell_type": "code",
   "execution_count": 20,
   "metadata": {},
   "outputs": [],
   "source": [
    "#Ingresar Distancia\n",
    "planeta1 = input(\"Ingrese la distancia del planeta 1: \")\n",
    "planeta2 = input(\"Ingrese la distancia del planeta 2: \")"
   ]
  },
  {
   "cell_type": "code",
   "execution_count": 22,
   "metadata": {},
   "outputs": [
    {
     "name": "stdout",
     "output_type": "stream",
     "text": [
      "Distancia en km: 10\n",
      "Distancia en millas: 6\n"
     ]
    }
   ],
   "source": [
    "#Convertir los valores en enteros.\n",
    "planeta1 = int(planeta1)\n",
    "planeta2 = int(planeta2)\n",
    "\n",
    "distanciaKM = planeta2 - planeta1\n",
    "print(\"Distancia en km: \" + str(abs(distanciaKM)))\n",
    "\n",
    "#Distancia entre planetas en millas\n",
    "distanciaMillas = distanciaKM * 0.621\n",
    "print(\"Distancia en millas: \" + str(abs(round(distanciaMillas))))"
   ]
  }
 ],
 "metadata": {
  "interpreter": {
   "hash": "5b7ddd63c9f068f89af4dfea35d95f99a94898c964006b9f4c765927be8434e8"
  },
  "kernelspec": {
   "display_name": "Python 3.10.2 64-bit",
   "language": "python",
   "name": "python3"
  },
  "language_info": {
   "codemirror_mode": {
    "name": "ipython",
    "version": 3
   },
   "file_extension": ".py",
   "mimetype": "text/x-python",
   "name": "python",
   "nbconvert_exporter": "python",
   "pygments_lexer": "ipython3",
   "version": "3.10.2"
  },
  "orig_nbformat": 4
 },
 "nbformat": 4,
 "nbformat_minor": 2
}
